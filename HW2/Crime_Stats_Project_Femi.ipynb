{
  "cells": [
    {
      "cell_type": "markdown",
      "id": "55e6b918-afac-43e8-b338-43f8ac64014f",
      "metadata": {
        "id": "55e6b918-afac-43e8-b338-43f8ac64014f"
      },
      "source": [
        "##  Deep Neural Networks Project"
      ]
    },
    {
      "cell_type": "markdown",
      "id": "1a8e066d-2849-4a6e-9c71-bb98d605ae07",
      "metadata": {
        "id": "1a8e066d-2849-4a6e-9c71-bb98d605ae07"
      },
      "source": [
        "In this project, you will be working with a real-world data set from the Las Vegas Metropolitan Police Department. The dataset  contains information about the reported incidents, including the time and location of the crime, type of incident, and number of persons involved."
      ]
    },
    {
      "cell_type": "markdown",
      "id": "9e87fac7-352a-4c39-b087-76254b5e2743",
      "metadata": {
        "id": "9e87fac7-352a-4c39-b087-76254b5e2743"
      },
      "source": [
        "The dataset is downloaded from the public docket at:\n",
        "https://opendata-lvmpd.hub.arcgis.com\n",
        "\n",
        "let's read the csv file and transform the data:"
      ]
    },
    {
      "cell_type": "code",
      "execution_count": 1,
      "id": "637211a4-582f-426b-a127-c3f284463f35",
      "metadata": {
        "id": "637211a4-582f-426b-a127-c3f284463f35"
      },
      "outputs": [],
      "source": [
        "#Here we are imoorting all the  necessary libraries\n",
        "\n",
        "import torch\n",
        "import pandas as pd\n",
        "from torch.utils.data import DataLoader, Dataset\n",
        "import matplotlib.pyplot as plt\n",
        "import seaborn as sns\n",
        "import numpy as np"
      ]
    },
    {
      "cell_type": "code",
      "execution_count": 2,
      "id": "bcf40b02-80b6-4abc-a662-f7ed50a65181",
      "metadata": {
        "id": "bcf40b02-80b6-4abc-a662-f7ed50a65181"
      },
      "outputs": [],
      "source": [
        "#this step helps us to open the csv file and focus on one particular column called LVMPD_States\n",
        "\n",
        "orig_df = pd.read_csv('/content/LVMPD-Stats.csv', parse_dates=['ReportedOn'])"
      ]
    },
    {
      "cell_type": "code",
      "execution_count": 3,
      "id": "e1ca1d15-3955-4971-a3c4-c1a73b62edda",
      "metadata": {
        "id": "e1ca1d15-3955-4971-a3c4-c1a73b62edda"
      },
      "outputs": [],
      "source": [
        "#agian we are opening the book and working with 6 different columns and\n",
        "#Also creating new cols Dayofweek and time and removing or dropping the reportedon col\n",
        "\n",
        "df = pd.read_csv('/content/LVMPD-Stats.csv', parse_dates=['ReportedOn'],usecols = ['X', 'Y', 'ReportedOn',\n",
        "                  'Area_Command','NIBRSOffenseCode', 'VictimCount' ] )\n",
        "\n",
        "df['DayOfWeek'] = df['ReportedOn'].dt.day_name()\n",
        "df['Time' ]     = df['ReportedOn'].dt.hour\n",
        "df.drop(columns = 'ReportedOn', inplace=True)"
      ]
    },
    {
      "cell_type": "code",
      "execution_count": 4,
      "id": "3ddc413d-ba3f-4204-bc18-7fdd4de8d221",
      "metadata": {
        "id": "3ddc413d-ba3f-4204-bc18-7fdd4de8d221"
      },
      "outputs": [],
      "source": [
        "#Here we are basicallly doing data transforming and organising it done so that we can work with it.\n",
        "\n",
        "df['X'] = df['X']\n",
        "df['Y'] = df['Y']\n",
        "df['Time'] = pd.factorize(df['Time'])[0]\n",
        "df['DayOfWeek'] = pd.factorize(df['DayOfWeek'])[0]\n",
        "df.Area_Command = pd.factorize(df['Area_Command'])[0]\n",
        "df.VictimCount = pd.factorize(df['VictimCount'])[0]\n",
        "df.NIBRSOffenseCode = pd.factorize(df['NIBRSOffenseCode'])[0]\n",
        "df.dropna(inplace=True)"
      ]
    },
    {
      "cell_type": "code",
      "execution_count": 5,
      "id": "a9c6162f-9686-4195-818d-950a6368c686",
      "metadata": {
        "id": "a9c6162f-9686-4195-818d-950a6368c686"
      },
      "outputs": [],
      "source": [
        "#here we are trying to create like a subset to work with a managable data for our analysis\n",
        "\n",
        "df= df[['X', 'Y', 'Area_Command', 'NIBRSOffenseCode','DayOfWeek', 'Time','VictimCount']]"
      ]
    },
    {
      "cell_type": "code",
      "execution_count": 6,
      "id": "a90bc78a-6d1b-4fe4-a1b0-8333aec1c851",
      "metadata": {
        "colab": {
          "base_uri": "https://localhost:8080/"
        },
        "id": "a90bc78a-6d1b-4fe4-a1b0-8333aec1c851",
        "outputId": "3713e2b5-5c72-4c08-83ed-395e6ec16e28"
      },
      "outputs": [
        {
          "output_type": "execute_result",
          "data": {
            "text/plain": [
              "(275, 7)"
            ]
          },
          "metadata": {},
          "execution_count": 6
        }
      ],
      "source": [
        "#Here we are trying to find the size of data: first value = to number of rows and second value = to num of cols\n",
        "df.values.shape"
      ]
    },
    {
      "cell_type": "markdown",
      "id": "651605b1-8d2c-4d3e-a09e-9aef6e550fc6",
      "metadata": {
        "id": "651605b1-8d2c-4d3e-a09e-9aef6e550fc6"
      },
      "source": [
        "# Goal\n",
        "The goal is to build a predictive model that is trained on the following data:\n",
        "* latitude and longitude (location)\n",
        "* Hour of the day\n",
        "* Day of the week\n",
        "* Area-of-command code: The police designation of the bureau of the operation.\n",
        "* Classification code for the crime committed\n",
        "  \n",
        "The predicted variable is the number of persons involved in the accident.\n"
      ]
    },
    {
      "cell_type": "markdown",
      "id": "0e54f0b8-83f9-4db9-88f9-f5a595342069",
      "metadata": {
        "id": "0e54f0b8-83f9-4db9-88f9-f5a595342069"
      },
      "source": [
        "## Task 1\n",
        "* print a few rows of the values in the dataframe ``df`` and explain what each column of data means.\n",
        "* identify the input and target variables\n",
        "* what is the range of values in each column? Do you need to scale, shift or normalize your data?\n"
      ]
    },
    {
      "cell_type": "code",
      "source": [
        "#Task1.1\n",
        "print(df.head())\n",
        "\n",
        "#Here we are trying to to print first 5 rowns using head function\n",
        "\n",
        "#Meaning of the data in each column:\n",
        "#X column = horizontal location or latitude.\n",
        "#Y column = vertical location or longitude.\n",
        "#Area_Command column = contains a code that specifies the police bureau or area\n",
        "#NIBRSOffenseCode column = contains a code that classifies the type of crime\n",
        "#DayOfWeek column = represents the day of the week when the first incident was reported\n",
        "#Time = column represents the hour of the day\n",
        "#VictimCount column = indicates the number of people involved\n",
        "\n",
        "\n",
        "#Task1.2\n",
        "#Here the input variabales are : X,Y,Area_Command,NIBRSOffenseCode,DayOfWeek,Time and output variable is VictimCount\n",
        "\n",
        "\n",
        "#Task1.3\n",
        "#for X and Y = latitude values to be in the range of -90 to 90 and longitude values to be in the range of -180 to 180 (degrees)\n",
        "#for Area_Commanad = it doesn't have a numeric range\n",
        "#for NIBRSOffenseCode = range of values depends on the specific codes\n",
        "#for DayOfWeek and Time =  0 to 6 and 0 to 23\n",
        "#normalize/scaling//shift depends on the algo we will use\n",
        "\n"
      ],
      "metadata": {
        "colab": {
          "base_uri": "https://localhost:8080/"
        },
        "id": "nXiuc7GsxKY4",
        "outputId": "6453a4af-254e-4f8a-eb24-4f13cbd6c4c4"
      },
      "id": "nXiuc7GsxKY4",
      "execution_count": 7,
      "outputs": [
        {
          "output_type": "stream",
          "name": "stdout",
          "text": [
            "            X          Y  Area_Command  NIBRSOffenseCode  DayOfWeek  Time  \\\n",
            "0 -115.087518  36.216702             0                 0          0     0   \n",
            "1 -115.240172  36.189693             1                 1          1     1   \n",
            "2 -115.143088  36.181329             2                 1          2     0   \n",
            "3 -115.225014  36.117633             3                 1          1     2   \n",
            "4 -115.176708  36.095967             4                 1          1     3   \n",
            "\n",
            "   VictimCount  \n",
            "0            0  \n",
            "1            0  \n",
            "2            1  \n",
            "3            2  \n",
            "4            0  \n"
          ]
        }
      ]
    },
    {
      "cell_type": "markdown",
      "id": "5549ecc9-3c0b-4efa-9a1f-340a25a1e4be",
      "metadata": {
        "id": "5549ecc9-3c0b-4efa-9a1f-340a25a1e4be"
      },
      "source": [
        "## Task 2\n",
        "\n",
        "* Create two `DataLoader` objects for training and testing based on the input and output variables. Pick a reasonable batch size and verify the shape of data by iterating over the one dataset and printing the shape of the batched data."
      ]
    },
    {
      "cell_type": "code",
      "execution_count": 8,
      "id": "00fe4287-934b-4799-9e43-c3571acfbab4",
      "metadata": {
        "id": "00fe4287-934b-4799-9e43-c3571acfbab4"
      },
      "outputs": [],
      "source": [
        "import torch\n",
        "from torch.utils.data import DataLoader, TensorDataset\n",
        "\n",
        "\n",
        "# Now lets convert our DataFrame - df to tensors for perforning operations on it\n",
        "X = df[['X', 'Y', 'Area_Command', 'NIBRSOffenseCode', 'DayOfWeek', 'Time']]\n",
        "y = df['VictimCount']\n",
        "\n",
        "X_tensor = torch.tensor(X.values, dtype=torch.float32)\n",
        "y_tensor = torch.tensor(y.values, dtype=torch.float32)\n",
        "\n",
        "\n",
        "# Lets define our batch size - determines how many data points are processed together in each iteration\n",
        "batch_size = 64\n",
        "\n",
        "\n",
        "#Task2.1\n",
        "# Lets create a DataLoader for training and testing - helps us to handle large dataset easily\n",
        "dataset = TensorDataset(X_tensor, y_tensor)\n",
        "train_size = int(0.8 * len(dataset))  # Let assume an 80-20 split for training and testing\n",
        "\n",
        "\n",
        "train_dataset, test_dataset = torch.utils.data.random_split(dataset, [train_size, len(dataset) - train_size])\n",
        "\n",
        "\n",
        "train_loader = DataLoader(train_dataset, batch_size=batch_size, shuffle=True)\n",
        "test_loader = DataLoader(test_dataset, batch_size=batch_size, shuffle=False)\n"
      ]
    },
    {
      "cell_type": "code",
      "source": [
        "#Task2.2\n",
        "#printing the shape of data and verifying it\n",
        "\n",
        "for batch in train_loader:\n",
        "    inputs, targets = batch\n",
        "    print(\"Batch Input Shape:\", inputs.shape)\n",
        "    print(\"Batch Target Shape:\", targets.shape)\n",
        "    break"
      ],
      "metadata": {
        "colab": {
          "base_uri": "https://localhost:8080/"
        },
        "id": "GPjFMuZ44CYd",
        "outputId": "5af1006e-3eb1-4262-fafb-91580027a0f2"
      },
      "id": "GPjFMuZ44CYd",
      "execution_count": 9,
      "outputs": [
        {
          "output_type": "stream",
          "name": "stdout",
          "text": [
            "Batch Input Shape: torch.Size([64, 6])\n",
            "Batch Target Shape: torch.Size([64])\n"
          ]
        }
      ]
    },
    {
      "cell_type": "markdown",
      "id": "1fb6f08c-5e70-4b14-b62c-4686d9f7aace",
      "metadata": {
        "id": "1fb6f08c-5e70-4b14-b62c-4686d9f7aace"
      },
      "source": [
        "## Task 3\n",
        "In this task you will try to predict number of crime victims as a **real number**. Therefore the machine learning problem is a **regression** problem.\n",
        "\n",
        "* Define the proper loss function for this task\n",
        "* what should the size of the predicted output be?\n",
        "* explain your choice of architecture, including how many layers you will be using\n",
        "* define an optimizer for training this model, choose a proper learning rate\n",
        "* write a training loop that obtains a batch out of the  training data and calculates the forward and backward passes over the neural network. Call the optimizer to update the weights of the neural network.\n",
        "* write a for loop that continues the training over a number of epochs. At the end of each epoch, calculate the ``MSE`` error on the test data and print it.\n",
        "* is your model training well? Adjust the learning rate, hidden size of the network, and try different activation functions and number of layers to achieve the best accuracy and report it."
      ]
    },
    {
      "cell_type": "code",
      "source": [
        "#Here I have used MSE as a loss function i.e Mean Squared Error\n",
        "#As we are predicting a single real number, the size of output should be one.\n",
        "#The model we have used is regression model for the feedforward neural network.\n",
        "#The architecture that consists of an input layer, one or more hidden layers, and an output layer with a single neuron.\n",
        "#Here we have used ReLU activation functions in hidden layers.\n",
        "#we have also used Adam's Optimizer and a learning rate of 0.001\n",
        "#after multiple runs I have finallised these parameters where in I found the model well trainied with least mse\n",
        "\n",
        "\n",
        "\n",
        "import torch\n",
        "import torch.nn as nn\n",
        "import torch.optim as optim\n",
        "\n",
        "# Define your neural network class\n",
        "class RegressionModel(nn.Module):\n",
        "    def __init__(self, input_size, hidden_size, output_size):\n",
        "        super(RegressionModel, self).__init__()\n",
        "        self.fc1 = nn.Linear(input_size, hidden_size)\n",
        "        self.relu = nn.ReLU()\n",
        "        self.fc2 = nn.Linear(hidden_size, output_size)\n",
        "\n",
        "    def forward(self, x):\n",
        "        x = self.fc1(x)\n",
        "        x = self.relu(x)\n",
        "        x = self.fc2(x)\n",
        "        return x\n",
        "\n",
        "# Initialize the model, loss function, and optimizer\n",
        "input_size = 6  # Number of input features\n",
        "hidden_size = 64  # Number of neurons in the hidden layer (you can adjust this)\n",
        "output_size = 1  # Single output for regression\n",
        "model = RegressionModel(input_size, hidden_size, output_size)\n",
        "criterion = nn.MSELoss()\n",
        "optimizer = optim.Adam(model.parameters(), lr=0.001)  # Adjust learning rate as needed\n",
        "\n",
        "# Training loop\n",
        "num_epochs = 100  # Adjust the number of training epochs\n",
        "for epoch in range(num_epochs):\n",
        "    model.train()\n",
        "    total_loss = 0.0\n",
        "    for inputs, targets in train_loader:\n",
        "        optimizer.zero_grad()\n",
        "        outputs = model(inputs)\n",
        "        loss = criterion(outputs, targets)\n",
        "        loss.backward()\n",
        "        optimizer.step()\n",
        "        total_loss += loss.item()\n",
        "\n",
        "    # Calculate MSE on the test data\n",
        "    model.eval()\n",
        "    with torch.no_grad():\n",
        "        test_loss = 0.0\n",
        "        for inputs, targets in test_loader:\n",
        "            outputs = model(inputs)\n",
        "            test_loss += criterion(outputs, targets).item()\n",
        "\n",
        "    print(f'Epoch [{epoch+1}/{num_epochs}] - Train Loss: {total_loss/len(train_loader):.4f}, Test MSE: {test_loss/len(test_loader):.4f}')\n",
        "\n",
        "# The model is now trained\n"
      ],
      "metadata": {
        "colab": {
          "base_uri": "https://localhost:8080/"
        },
        "id": "zjELA2tsNPdL",
        "outputId": "da518e32-7ea5-4e52-aef4-7ce42873ce9f"
      },
      "id": "zjELA2tsNPdL",
      "execution_count": 10,
      "outputs": [
        {
          "output_type": "stream",
          "name": "stderr",
          "text": [
            "/usr/local/lib/python3.10/dist-packages/torch/nn/modules/loss.py:535: UserWarning: Using a target size (torch.Size([64])) that is different to the input size (torch.Size([64, 1])). This will likely lead to incorrect results due to broadcasting. Please ensure they have the same size.\n",
            "  return F.mse_loss(input, target, reduction=self.reduction)\n",
            "/usr/local/lib/python3.10/dist-packages/torch/nn/modules/loss.py:535: UserWarning: Using a target size (torch.Size([28])) that is different to the input size (torch.Size([28, 1])). This will likely lead to incorrect results due to broadcasting. Please ensure they have the same size.\n",
            "  return F.mse_loss(input, target, reduction=self.reduction)\n",
            "/usr/local/lib/python3.10/dist-packages/torch/nn/modules/loss.py:535: UserWarning: Using a target size (torch.Size([55])) that is different to the input size (torch.Size([55, 1])). This will likely lead to incorrect results due to broadcasting. Please ensure they have the same size.\n",
            "  return F.mse_loss(input, target, reduction=self.reduction)\n"
          ]
        },
        {
          "output_type": "stream",
          "name": "stdout",
          "text": [
            "Epoch [1/100] - Train Loss: 45.1689, Test MSE: 13.1997\n",
            "Epoch [2/100] - Train Loss: 7.4725, Test MSE: 2.0361\n",
            "Epoch [3/100] - Train Loss: 3.8047, Test MSE: 9.3609\n",
            "Epoch [4/100] - Train Loss: 8.7290, Test MSE: 9.6348\n",
            "Epoch [5/100] - Train Loss: 6.6877, Test MSE: 4.1318\n",
            "Epoch [6/100] - Train Loss: 2.2170, Test MSE: 1.5583\n",
            "Epoch [7/100] - Train Loss: 1.9142, Test MSE: 2.3361\n",
            "Epoch [8/100] - Train Loss: 2.8556, Test MSE: 2.4800\n",
            "Epoch [9/100] - Train Loss: 2.5285, Test MSE: 1.6206\n",
            "Epoch [10/100] - Train Loss: 1.5071, Test MSE: 1.5555\n",
            "Epoch [11/100] - Train Loss: 1.4054, Test MSE: 2.0283\n",
            "Epoch [12/100] - Train Loss: 1.6028, Test MSE: 1.8876\n",
            "Epoch [13/100] - Train Loss: 1.3827, Test MSE: 1.4785\n",
            "Epoch [14/100] - Train Loss: 1.3030, Test MSE: 1.3313\n",
            "Epoch [15/100] - Train Loss: 1.2570, Test MSE: 1.3126\n",
            "Epoch [16/100] - Train Loss: 1.2762, Test MSE: 1.2882\n",
            "Epoch [17/100] - Train Loss: 1.1618, Test MSE: 1.3038\n",
            "Epoch [18/100] - Train Loss: 1.2313, Test MSE: 1.3366\n",
            "Epoch [19/100] - Train Loss: 1.2667, Test MSE: 1.3031\n",
            "Epoch [20/100] - Train Loss: 1.1669, Test MSE: 1.2351\n",
            "Epoch [21/100] - Train Loss: 1.1063, Test MSE: 1.1971\n",
            "Epoch [22/100] - Train Loss: 1.2161, Test MSE: 1.1855\n",
            "Epoch [23/100] - Train Loss: 1.0969, Test MSE: 1.1959\n",
            "Epoch [24/100] - Train Loss: 1.0684, Test MSE: 1.2064\n",
            "Epoch [25/100] - Train Loss: 1.0836, Test MSE: 1.1862\n",
            "Epoch [26/100] - Train Loss: 1.0505, Test MSE: 1.1474\n",
            "Epoch [27/100] - Train Loss: 1.0242, Test MSE: 1.1364\n",
            "Epoch [28/100] - Train Loss: 1.0000, Test MSE: 1.1425\n",
            "Epoch [29/100] - Train Loss: 1.1693, Test MSE: 1.1474\n",
            "Epoch [30/100] - Train Loss: 1.2474, Test MSE: 1.1202\n",
            "Epoch [31/100] - Train Loss: 0.9629, Test MSE: 1.0986\n",
            "Epoch [32/100] - Train Loss: 1.0216, Test MSE: 1.0967\n",
            "Epoch [33/100] - Train Loss: 1.0351, Test MSE: 1.1015\n",
            "Epoch [34/100] - Train Loss: 1.1920, Test MSE: 1.1097\n",
            "Epoch [35/100] - Train Loss: 0.9967, Test MSE: 1.0819\n",
            "Epoch [36/100] - Train Loss: 1.0676, Test MSE: 1.0661\n",
            "Epoch [37/100] - Train Loss: 0.9437, Test MSE: 1.0643\n",
            "Epoch [38/100] - Train Loss: 0.9366, Test MSE: 1.0805\n",
            "Epoch [39/100] - Train Loss: 0.9837, Test MSE: 1.0922\n",
            "Epoch [40/100] - Train Loss: 0.9571, Test MSE: 1.0598\n",
            "Epoch [41/100] - Train Loss: 0.9513, Test MSE: 1.0491\n",
            "Epoch [42/100] - Train Loss: 0.9568, Test MSE: 1.0470\n",
            "Epoch [43/100] - Train Loss: 0.9592, Test MSE: 1.0472\n",
            "Epoch [44/100] - Train Loss: 0.9814, Test MSE: 1.0510\n",
            "Epoch [45/100] - Train Loss: 0.9604, Test MSE: 1.0555\n",
            "Epoch [46/100] - Train Loss: 0.9266, Test MSE: 1.0424\n",
            "Epoch [47/100] - Train Loss: 1.0133, Test MSE: 1.0322\n",
            "Epoch [48/100] - Train Loss: 0.9370, Test MSE: 1.0375\n",
            "Epoch [49/100] - Train Loss: 0.9090, Test MSE: 1.0416\n",
            "Epoch [50/100] - Train Loss: 0.9141, Test MSE: 1.0372\n",
            "Epoch [51/100] - Train Loss: 0.9198, Test MSE: 1.0362\n",
            "Epoch [52/100] - Train Loss: 0.9937, Test MSE: 1.0340\n",
            "Epoch [53/100] - Train Loss: 0.9100, Test MSE: 1.0316\n",
            "Epoch [54/100] - Train Loss: 0.8650, Test MSE: 1.0381\n",
            "Epoch [55/100] - Train Loss: 1.0810, Test MSE: 1.0324\n",
            "Epoch [56/100] - Train Loss: 1.1884, Test MSE: 1.0183\n",
            "Epoch [57/100] - Train Loss: 0.9210, Test MSE: 1.0166\n",
            "Epoch [58/100] - Train Loss: 0.9394, Test MSE: 1.0196\n",
            "Epoch [59/100] - Train Loss: 0.9901, Test MSE: 1.0436\n",
            "Epoch [60/100] - Train Loss: 0.9609, Test MSE: 1.0437\n",
            "Epoch [61/100] - Train Loss: 0.9063, Test MSE: 1.0227\n",
            "Epoch [62/100] - Train Loss: 1.0705, Test MSE: 1.0204\n",
            "Epoch [63/100] - Train Loss: 0.9125, Test MSE: 1.0155\n",
            "Epoch [64/100] - Train Loss: 0.9285, Test MSE: 1.0158\n",
            "Epoch [65/100] - Train Loss: 0.8855, Test MSE: 1.0345\n",
            "Epoch [66/100] - Train Loss: 0.9428, Test MSE: 1.0545\n",
            "Epoch [67/100] - Train Loss: 0.9319, Test MSE: 1.0207\n",
            "Epoch [68/100] - Train Loss: 0.9328, Test MSE: 1.0129\n",
            "Epoch [69/100] - Train Loss: 0.9352, Test MSE: 1.0133\n",
            "Epoch [70/100] - Train Loss: 0.9061, Test MSE: 1.0471\n",
            "Epoch [71/100] - Train Loss: 1.0540, Test MSE: 1.0451\n",
            "Epoch [72/100] - Train Loss: 0.9371, Test MSE: 1.0114\n",
            "Epoch [73/100] - Train Loss: 0.9313, Test MSE: 1.0113\n",
            "Epoch [74/100] - Train Loss: 0.9474, Test MSE: 1.0427\n",
            "Epoch [75/100] - Train Loss: 0.9470, Test MSE: 1.0356\n",
            "Epoch [76/100] - Train Loss: 0.8743, Test MSE: 1.0130\n",
            "Epoch [77/100] - Train Loss: 0.9476, Test MSE: 1.0118\n",
            "Epoch [78/100] - Train Loss: 0.9371, Test MSE: 1.0258\n",
            "Epoch [79/100] - Train Loss: 1.0496, Test MSE: 1.0267\n",
            "Epoch [80/100] - Train Loss: 1.0137, Test MSE: 1.0117\n",
            "Epoch [81/100] - Train Loss: 0.8868, Test MSE: 1.0103\n",
            "Epoch [82/100] - Train Loss: 1.0954, Test MSE: 1.0202\n",
            "Epoch [83/100] - Train Loss: 0.9364, Test MSE: 1.0149\n",
            "Epoch [84/100] - Train Loss: 0.8924, Test MSE: 1.0169\n",
            "Epoch [85/100] - Train Loss: 0.9471, Test MSE: 1.0262\n",
            "Epoch [86/100] - Train Loss: 0.8861, Test MSE: 1.0298\n",
            "Epoch [87/100] - Train Loss: 0.9166, Test MSE: 1.0289\n",
            "Epoch [88/100] - Train Loss: 0.9431, Test MSE: 1.0108\n",
            "Epoch [89/100] - Train Loss: 0.9348, Test MSE: 1.0177\n",
            "Epoch [90/100] - Train Loss: 0.8921, Test MSE: 1.0167\n",
            "Epoch [91/100] - Train Loss: 0.8710, Test MSE: 1.0261\n",
            "Epoch [92/100] - Train Loss: 0.8795, Test MSE: 1.0287\n",
            "Epoch [93/100] - Train Loss: 0.9199, Test MSE: 1.0333\n",
            "Epoch [94/100] - Train Loss: 1.0263, Test MSE: 1.0316\n",
            "Epoch [95/100] - Train Loss: 0.8778, Test MSE: 1.0111\n",
            "Epoch [96/100] - Train Loss: 0.9130, Test MSE: 1.0145\n",
            "Epoch [97/100] - Train Loss: 1.0616, Test MSE: 1.0564\n",
            "Epoch [98/100] - Train Loss: 0.8943, Test MSE: 1.0170\n",
            "Epoch [99/100] - Train Loss: 0.8992, Test MSE: 1.0089\n",
            "Epoch [100/100] - Train Loss: 0.9027, Test MSE: 1.0194\n"
          ]
        }
      ]
    },
    {
      "cell_type": "markdown",
      "id": "86e3fc70-c6ce-4589-9930-128951290e8d",
      "metadata": {
        "id": "86e3fc70-c6ce-4589-9930-128951290e8d"
      },
      "source": [
        "## Task 4\n",
        "\n",
        "In this task, you will try to predict the number of crime victims as a **class number**. Therefore the machine learning problem is a **classification** problem.\n",
        "\n",
        "* Repeat all the steps in task 3. Specifically, pay attention to the differences with regression.\n",
        "* How would you find the number of classes on the output data?\n",
        "* How is the architecture different?\n",
        "* How is the loss function different?\n",
        "* Calculate the Accuracy for test data as the number of correct classified outputs divided by the total number of test data in each epoch. Report it at the end of each epoch\n",
        "* Try a few variations of learning rate, hidden dimensions, layers, etc. What is the best accuracy that you can get?"
      ]
    },
    {
      "cell_type": "code",
      "execution_count": 11,
      "id": "7d929c52-af34-4081-92cd-3463a3fc4db1",
      "metadata": {
        "colab": {
          "base_uri": "https://localhost:8080/"
        },
        "id": "7d929c52-af34-4081-92cd-3463a3fc4db1",
        "outputId": "09bf76a1-fc53-49aa-8837-da2dbbe75ec5"
      },
      "outputs": [
        {
          "output_type": "stream",
          "name": "stdout",
          "text": [
            "Epoch [1/100] - Train Loss: 8.2675, Accuracy: 0.0636\n",
            "Epoch [2/100] - Train Loss: 2.6255, Accuracy: 0.4045\n",
            "Epoch [3/100] - Train Loss: 2.0393, Accuracy: 0.5136\n",
            "Epoch [4/100] - Train Loss: 2.2567, Accuracy: 0.4182\n",
            "Epoch [5/100] - Train Loss: 2.2413, Accuracy: 0.5227\n",
            "Epoch [6/100] - Train Loss: 2.0006, Accuracy: 0.5182\n",
            "Epoch [7/100] - Train Loss: 2.0070, Accuracy: 0.4364\n",
            "Epoch [8/100] - Train Loss: 1.8810, Accuracy: 0.4955\n",
            "Epoch [9/100] - Train Loss: 1.8042, Accuracy: 0.5182\n",
            "Epoch [10/100] - Train Loss: 1.6061, Accuracy: 0.4727\n",
            "Epoch [11/100] - Train Loss: 1.4752, Accuracy: 0.4864\n",
            "Epoch [12/100] - Train Loss: 1.4592, Accuracy: 0.4773\n",
            "Epoch [13/100] - Train Loss: 1.2472, Accuracy: 0.4818\n",
            "Epoch [14/100] - Train Loss: 1.1768, Accuracy: 0.4909\n",
            "Epoch [15/100] - Train Loss: 1.2238, Accuracy: 0.4909\n",
            "Epoch [16/100] - Train Loss: 1.2537, Accuracy: 0.4818\n",
            "Epoch [17/100] - Train Loss: 1.1540, Accuracy: 0.4909\n",
            "Epoch [18/100] - Train Loss: 1.1348, Accuracy: 0.5045\n",
            "Epoch [19/100] - Train Loss: 1.1677, Accuracy: 0.5227\n",
            "Epoch [20/100] - Train Loss: 1.1319, Accuracy: 0.4682\n",
            "Epoch [21/100] - Train Loss: 1.1018, Accuracy: 0.4773\n",
            "Epoch [22/100] - Train Loss: 1.1216, Accuracy: 0.5091\n",
            "Epoch [23/100] - Train Loss: 1.0785, Accuracy: 0.4682\n",
            "Epoch [24/100] - Train Loss: 1.1217, Accuracy: 0.5136\n",
            "Epoch [25/100] - Train Loss: 1.0997, Accuracy: 0.4818\n",
            "Epoch [26/100] - Train Loss: 1.0940, Accuracy: 0.5000\n",
            "Epoch [27/100] - Train Loss: 1.1004, Accuracy: 0.4909\n",
            "Epoch [28/100] - Train Loss: 1.0725, Accuracy: 0.5091\n",
            "Epoch [29/100] - Train Loss: 1.0473, Accuracy: 0.5273\n",
            "Epoch [30/100] - Train Loss: 1.0923, Accuracy: 0.5091\n",
            "Epoch [31/100] - Train Loss: 1.0562, Accuracy: 0.4955\n",
            "Epoch [32/100] - Train Loss: 1.0928, Accuracy: 0.5000\n",
            "Epoch [33/100] - Train Loss: 1.0567, Accuracy: 0.5227\n",
            "Epoch [34/100] - Train Loss: 1.1143, Accuracy: 0.4364\n",
            "Epoch [35/100] - Train Loss: 1.0633, Accuracy: 0.4909\n",
            "Epoch [36/100] - Train Loss: 1.1673, Accuracy: 0.4500\n",
            "Epoch [37/100] - Train Loss: 1.0741, Accuracy: 0.5318\n",
            "Epoch [38/100] - Train Loss: 1.0923, Accuracy: 0.4909\n",
            "Epoch [39/100] - Train Loss: 1.0377, Accuracy: 0.5182\n",
            "Epoch [40/100] - Train Loss: 1.0298, Accuracy: 0.4818\n",
            "Epoch [41/100] - Train Loss: 1.0325, Accuracy: 0.5045\n",
            "Epoch [42/100] - Train Loss: 1.0733, Accuracy: 0.5136\n",
            "Epoch [43/100] - Train Loss: 1.0633, Accuracy: 0.4909\n",
            "Epoch [44/100] - Train Loss: 1.0371, Accuracy: 0.5182\n",
            "Epoch [45/100] - Train Loss: 1.0742, Accuracy: 0.5045\n",
            "Epoch [46/100] - Train Loss: 1.0746, Accuracy: 0.5227\n",
            "Epoch [47/100] - Train Loss: 1.0430, Accuracy: 0.5136\n",
            "Epoch [48/100] - Train Loss: 1.0461, Accuracy: 0.5227\n",
            "Epoch [49/100] - Train Loss: 1.0715, Accuracy: 0.5000\n",
            "Epoch [50/100] - Train Loss: 1.0451, Accuracy: 0.5455\n",
            "Epoch [51/100] - Train Loss: 1.0840, Accuracy: 0.5091\n",
            "Epoch [52/100] - Train Loss: 1.0580, Accuracy: 0.5136\n",
            "Epoch [53/100] - Train Loss: 1.0839, Accuracy: 0.5091\n",
            "Epoch [54/100] - Train Loss: 1.0987, Accuracy: 0.5182\n",
            "Epoch [55/100] - Train Loss: 1.0690, Accuracy: 0.5182\n",
            "Epoch [56/100] - Train Loss: 1.0932, Accuracy: 0.4318\n",
            "Epoch [57/100] - Train Loss: 1.0940, Accuracy: 0.5182\n",
            "Epoch [58/100] - Train Loss: 1.0493, Accuracy: 0.5091\n",
            "Epoch [59/100] - Train Loss: 1.0991, Accuracy: 0.4864\n",
            "Epoch [60/100] - Train Loss: 1.0311, Accuracy: 0.5091\n",
            "Epoch [61/100] - Train Loss: 1.0412, Accuracy: 0.5182\n",
            "Epoch [62/100] - Train Loss: 1.0392, Accuracy: 0.5136\n",
            "Epoch [63/100] - Train Loss: 1.0420, Accuracy: 0.5273\n",
            "Epoch [64/100] - Train Loss: 1.0231, Accuracy: 0.5182\n",
            "Epoch [65/100] - Train Loss: 1.0563, Accuracy: 0.5182\n",
            "Epoch [66/100] - Train Loss: 1.0114, Accuracy: 0.5273\n",
            "Epoch [67/100] - Train Loss: 1.0448, Accuracy: 0.5227\n",
            "Epoch [68/100] - Train Loss: 1.0306, Accuracy: 0.5273\n",
            "Epoch [69/100] - Train Loss: 1.0539, Accuracy: 0.5136\n",
            "Epoch [70/100] - Train Loss: 1.0419, Accuracy: 0.5227\n",
            "Epoch [71/100] - Train Loss: 1.0837, Accuracy: 0.4636\n",
            "Epoch [72/100] - Train Loss: 1.0635, Accuracy: 0.5273\n",
            "Epoch [73/100] - Train Loss: 1.0483, Accuracy: 0.5227\n",
            "Epoch [74/100] - Train Loss: 1.0474, Accuracy: 0.4773\n",
            "Epoch [75/100] - Train Loss: 1.0327, Accuracy: 0.5136\n",
            "Epoch [76/100] - Train Loss: 1.0896, Accuracy: 0.4818\n",
            "Epoch [77/100] - Train Loss: 1.0183, Accuracy: 0.5500\n",
            "Epoch [78/100] - Train Loss: 1.0299, Accuracy: 0.5136\n",
            "Epoch [79/100] - Train Loss: 1.0583, Accuracy: 0.5136\n",
            "Epoch [80/100] - Train Loss: 1.0566, Accuracy: 0.5182\n",
            "Epoch [81/100] - Train Loss: 1.0314, Accuracy: 0.4909\n",
            "Epoch [82/100] - Train Loss: 1.0490, Accuracy: 0.5182\n",
            "Epoch [83/100] - Train Loss: 1.0664, Accuracy: 0.5318\n",
            "Epoch [84/100] - Train Loss: 1.0208, Accuracy: 0.5136\n",
            "Epoch [85/100] - Train Loss: 1.0087, Accuracy: 0.5045\n",
            "Epoch [86/100] - Train Loss: 1.0448, Accuracy: 0.5364\n",
            "Epoch [87/100] - Train Loss: 1.0479, Accuracy: 0.5045\n",
            "Epoch [88/100] - Train Loss: 1.0533, Accuracy: 0.5136\n",
            "Epoch [89/100] - Train Loss: 1.0617, Accuracy: 0.5136\n",
            "Epoch [90/100] - Train Loss: 1.0550, Accuracy: 0.5136\n",
            "Epoch [91/100] - Train Loss: 1.0240, Accuracy: 0.5318\n",
            "Epoch [92/100] - Train Loss: 1.0337, Accuracy: 0.5136\n",
            "Epoch [93/100] - Train Loss: 1.0330, Accuracy: 0.4500\n",
            "Epoch [94/100] - Train Loss: 1.1235, Accuracy: 0.5182\n",
            "Epoch [95/100] - Train Loss: 1.1097, Accuracy: 0.4091\n",
            "Epoch [96/100] - Train Loss: 1.0780, Accuracy: 0.5318\n",
            "Epoch [97/100] - Train Loss: 1.0979, Accuracy: 0.4227\n",
            "Epoch [98/100] - Train Loss: 1.0947, Accuracy: 0.5318\n",
            "Epoch [99/100] - Train Loss: 1.0403, Accuracy: 0.5273\n",
            "Epoch [100/100] - Train Loss: 1.1042, Accuracy: 0.4636\n"
          ]
        }
      ],
      "source": [
        "#Here we are working with classification problem,\n",
        "#To find the number of output : we will determine the range of possible values for the number of crime victims. Each unique value within this range represents a class\n",
        "#As it is a classification problem, we generally use a softmax activation function in the output layer , where in the number of output neurons match with number of classes\n",
        "#For classification problems; Cross-Entropy Loss  is genrally used as a loss function\n",
        "#after trying various parameters, following is the code I finalized\n",
        "#best acc for this model is 0.5500\n",
        "\n",
        "\n",
        "\n",
        "import torch\n",
        "import torch.nn as nn\n",
        "import torch.optim as optim\n",
        "import torch.nn.functional as F\n",
        "\n",
        "# Define your neural network class for classification\n",
        "class ClassificationModel(nn.Module):\n",
        "    def __init__(self, input_size, hidden_size, num_classes):\n",
        "        super(ClassificationModel, self).__init__()\n",
        "        self.fc1 = nn.Linear(input_size, hidden_size)\n",
        "        self.fc2 = nn.Linear(hidden_size, num_classes)\n",
        "\n",
        "    def forward(self, x):\n",
        "        x = F.relu(self.fc1(x))\n",
        "        x = self.fc2(x)\n",
        "        return x\n",
        "\n",
        "# Initialize the model, loss function, and optimizer\n",
        "input_size = 6  # Number of input features\n",
        "hidden_size = 64  # Number of neurons in the hidden layer (adjust as needed)\n",
        "num_classes = 11  # Number of classes (adjust based on the range of crime victims)\n",
        "model = ClassificationModel(input_size, hidden_size, num_classes)\n",
        "criterion = nn.CrossEntropyLoss()\n",
        "optimizer = optim.Adam(model.parameters(), lr=0.001)  # Adjust learning rate as needed\n",
        "\n",
        "# Training loop with accuracy calculation\n",
        "num_epochs = 100  # Adjust the number of training epochs\n",
        "for epoch in range(num_epochs):\n",
        "    model.train()\n",
        "    total_loss = 0.0\n",
        "    total_correct = 0\n",
        "    total_samples = 0\n",
        "    for inputs, targets in train_loader:\n",
        "        optimizer.zero_grad()\n",
        "        outputs = model(inputs)\n",
        "\n",
        "        # Convert the target tensor to Long data type\n",
        "        targets = targets.long()\n",
        "\n",
        "        loss = criterion(outputs, targets)\n",
        "        loss.backward()\n",
        "        optimizer.step()\n",
        "        total_loss += loss.item()\n",
        "\n",
        "        # Calculate accuracy\n",
        "        _, predicted = torch.max(outputs, 1)\n",
        "        total_correct += (predicted == targets).sum().item()\n",
        "        total_samples += targets.size(0)\n",
        "\n",
        "    accuracy = total_correct / total_samples\n",
        "    print(f'Epoch [{epoch+1}/{num_epochs}] - Train Loss: {total_loss/len(train_loader):.4f}, Accuracy: {accuracy:.4f}')\n",
        "\n",
        "# The model is now trained\n"
      ]
    },
    {
      "cell_type": "markdown",
      "id": "84d2a304-6197-4cd9-b31e-745f7862f213",
      "metadata": {
        "id": "84d2a304-6197-4cd9-b31e-745f7862f213"
      },
      "source": [
        "## Task 5"
      ]
    },
    {
      "cell_type": "markdown",
      "id": "d6e4ef16-d828-45e5-bd58-1c49fcfecf52",
      "metadata": {
        "id": "d6e4ef16-d828-45e5-bd58-1c49fcfecf52"
      },
      "source": [
        "### Reflect on your results\n",
        "\n",
        "* Write a paragraph about your experience with tasks 3 and 4. How do you compare the results? Which one worked better? Why?\n",
        "* Write a piece of code that finds an example of a  miss-classification. Calculate the probabilities for the output classes and plot them in a bar chart. Also, indicate what is the correct class label."
      ]
    },
    {
      "cell_type": "code",
      "source": [
        "#In task 3, we performed regression to predict the exact number of crime victims, resulting in a Mean Squared Error (MSE) of 1.09. In task 4, classification was used to categorize the number of victims, achieving an accuracy of 0.55. The choice between regression and classification depends on specific requirements and data characteristics. While regression provides precise predictions, classification is better for categorizing data into predefined classes.\n",
        "\n",
        "\n",
        "# Assuming 'test_loader' contains your test data\n",
        "model.eval()\n",
        "with torch.no_grad():\n",
        "    for inputs, targets in test_loader:\n",
        "        outputs = model(inputs)\n",
        "        predicted_class = torch.argmax(outputs, dim=1)\n",
        "        correct_class = targets\n",
        "        if not (predicted_class == correct_class).all():\n",
        "            print(f'Misclassified Example:')\n",
        "            print(f'Predicted Class: {predicted_class.tolist()}')\n",
        "            print(f'Correct Class: {correct_class.tolist()}')\n",
        "\n",
        "            # Calculate class probabilities\n",
        "            class_probabilities = torch.softmax(outputs, dim=1)\n",
        "            print(num_classes)\n",
        "\n",
        "            # Plot the class probabilities\n",
        "            classes = list(range(num_classes))  # Assuming 'num_classes' is defined\n",
        "            probabilities = class_probabilities[0].tolist()\n",
        "            plt.bar(classes, probabilities)\n",
        "            plt.xlabel('Class')\n",
        "            plt.ylabel('Probability')\n",
        "            plt.title('Class Probabilities')\n",
        "            plt.show()\n",
        "            break  # Stop after the first misclassification for illustration\n"
      ],
      "metadata": {
        "colab": {
          "base_uri": "https://localhost:8080/",
          "height": 563
        },
        "id": "dDupIphUSTQ-",
        "outputId": "1e312e21-8b21-406f-9843-ed4ecbaa62d7"
      },
      "id": "dDupIphUSTQ-",
      "execution_count": 12,
      "outputs": [
        {
          "output_type": "stream",
          "name": "stdout",
          "text": [
            "Misclassified Example:\n",
            "Predicted Class: [0, 0, 0, 0, 0, 0, 0, 0, 0, 0, 0, 0, 0, 0, 0, 0, 0, 0, 0, 0, 0, 0, 0, 0, 0, 0, 0, 0, 0, 0, 0, 0, 0, 0, 0, 0, 0, 0, 0, 0, 0, 0, 0, 0, 0, 0, 0, 0, 0, 0, 0, 0, 0, 0, 0]\n",
            "Correct Class: [1.0, 1.0, 0.0, 3.0, 0.0, 0.0, 1.0, 1.0, 0.0, 1.0, 0.0, 0.0, 0.0, 1.0, 1.0, 3.0, 0.0, 0.0, 1.0, 1.0, 0.0, 0.0, 0.0, 0.0, 1.0, 2.0, 1.0, 0.0, 0.0, 3.0, 3.0, 0.0, 0.0, 1.0, 2.0, 1.0, 1.0, 3.0, 0.0, 0.0, 1.0, 1.0, 3.0, 0.0, 1.0, 0.0, 1.0, 0.0, 0.0, 0.0, 0.0, 0.0, 0.0, 3.0, 0.0]\n",
            "11\n"
          ]
        },
        {
          "output_type": "display_data",
          "data": {
            "text/plain": [
              "<Figure size 640x480 with 1 Axes>"
            ],
            "image/png": "[encoded data removed]"
          },
          "metadata": {}
        }
      ]
    },
    {
      "cell_type": "markdown",
      "id": "5b000b0b-fa37-4f8d-8ec7-0a1e6e749424",
      "metadata": {
        "id": "5b000b0b-fa37-4f8d-8ec7-0a1e6e749424"
      },
      "source": [
        "## Task 6: Exploring the patterns in raw data\n",
        "\n",
        "* Plot the crime incidents as a `scatter` plot using the corrdinates. Use the color property of each datapoint to indicate the day of the week. Is there a pattern in the plot?\n",
        "* Now make a new scatter plot and use the color property of each datapoint to indicate the number of persons involved in the incident. Is there a pattern here?\n",
        "* use numpy (or pandas if you like) to sort the number of crimes reported by the day of the week. What days are most frequent?\n"
      ]
    },
    {
      "cell_type": "code",
      "execution_count": 13,
      "id": "5b396aaf-5d1a-49cd-ae1d-b63af7e561f5",
      "metadata": {
        "colab": {
          "base_uri": "https://localhost:8080/",
          "height": 1000
        },
        "id": "5b396aaf-5d1a-49cd-ae1d-b63af7e561f5",
        "outputId": "df89729c-895e-4c9b-a905-2f4089919124"
      },
      "outputs": [
        {
          "output_type": "display_data",
          "data": {
            "text/plain": [
              "<Figure size 1000x600 with 2 Axes>"
            ],
            "image/png": "[encoded data removed]"
          },
          "metadata": {}
        },
        {
          "output_type": "display_data",
          "data": {
            "text/plain": [
              "<Figure size 1000x600 with 2 Axes>"
            ],
            "image/png": "[encoded data removed]"
          },
          "metadata": {}
        },
        {
          "output_type": "stream",
          "name": "stdout",
          "text": [
            "Number of Crimes by Day of the Week:\n",
            "Monday: 40 crimes\n",
            "Tuesday: 37 crimes\n",
            "Wednesday: 32 crimes\n",
            "Thursday: 44 crimes\n",
            "Friday: 51 crimes\n",
            "Saturday: 43 crimes\n",
            "Sunday: 28 crimes\n",
            "The most frequent day is: Friday\n"
          ]
        }
      ],
      "source": [
        "#the first scatter plot is represnting day of the week while second one is indicating number of persons involved\n",
        "#more the cluster with similar datapoints shows that particular day and number of people involved in a particular region\n",
        "\n",
        "import matplotlib.pyplot as plt\n",
        "import numpy as np\n",
        "\n",
        "\n",
        "# Create a scatter plot with colors indicating the day of the week\n",
        "plt.figure(figsize=(10, 6))\n",
        "plt.scatter(df['X'], df['Y'], c=df['DayOfWeek'], cmap='viridis', s=5)\n",
        "plt.colorbar(label='Day of the Week')\n",
        "plt.title('Crime Incidents by Location (Color: Day of the Week)')\n",
        "plt.xlabel('Longitude (X)')\n",
        "plt.ylabel('Latitude (Y)')\n",
        "plt.show()\n",
        "\n",
        "# Create a scatter plot with colors indicating the number of persons involved\n",
        "plt.figure(figsize=(10, 6))\n",
        "plt.scatter(df['X'], df['Y'], c=df['VictimCount'], cmap='viridis', s=5)\n",
        "plt.colorbar(label='Number of Persons Involved')\n",
        "plt.title('Crime Incidents by Location (Color: Number of Persons Involved)')\n",
        "plt.xlabel('Longitude (X)')\n",
        "plt.ylabel('Latitude (Y)')\n",
        "plt.show()\n",
        "\n",
        "# Use numpy to sort the number of crimes reported by the day of the week\n",
        "days_of_week = ['Monday', 'Tuesday', 'Wednesday', 'Thursday', 'Friday', 'Saturday', 'Sunday']\n",
        "crime_counts_by_day = df['DayOfWeek'].value_counts().reindex(range(7), fill_value=0)\n",
        "sorted_crime_counts = [crime_counts_by_day[day] for day in range(7)]\n",
        "most_frequent_day = days_of_week[np.argmax(sorted_crime_counts)]\n",
        "\n",
        "print(f\"Number of Crimes by Day of the Week:\")\n",
        "for day, count in zip(days_of_week, sorted_crime_counts):\n",
        "    print(f\"{day}: {count} crimes\")\n",
        "\n",
        "print(f\"The most frequent day is: {most_frequent_day}\")\n"
      ]
    }
  ],
  "metadata": {
    "kernelspec": {
      "display_name": "Python 3 (ipykernel)",
      "language": "python",
      "name": "python3"
    },
    "language_info": {
      "codemirror_mode": {
        "name": "ipython",
        "version": 3
      },
      "file_extension": ".py",
      "mimetype": "text/x-python",
      "name": "python",
      "nbconvert_exporter": "python",
      "pygments_lexer": "ipython3",
      "version": "3.11.5"
    },
    "colab": {
      "provenance": []
    }
  },
  "nbformat": 4,
  "nbformat_minor": 5
}